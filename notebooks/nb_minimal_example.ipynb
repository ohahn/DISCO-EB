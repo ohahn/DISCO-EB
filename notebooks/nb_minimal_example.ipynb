{
 "cells": [
  {
   "cell_type": "code",
   "execution_count": 1,
   "metadata": {},
   "outputs": [],
   "source": [
    "import jax\n",
    "jax.config.update(\"jax_enable_x64\", True)\n",
    "jax.config.update('jax_platform_name', 'cpu')\n",
    "jax.config.update(\"jax_check_tracer_leaks\", True)\n",
    "# jax.config.update(\"jax_debug_nans\", True)\n",
    "# jax.config.update(\"jax_disable_jit\", True)\n",
    "import numpy as np\n",
    "import jax.numpy as jnp\n",
    "import os\n",
    "import matplotlib.pyplot as plt\n",
    "from scipy.interpolate import interp1d\n",
    "%matplotlib widget"
   ]
  },
  {
   "cell_type": "code",
   "execution_count": 2,
   "metadata": {},
   "outputs": [],
   "source": [
    "## these are the main packages for background evolution and perturbation evolution\n",
    "\n",
    "from discoeb.background import evolve_background\n",
    "from discoeb.perturbations import evolve_perturbations"
   ]
  },
  {
   "cell_type": "code",
   "execution_count": 3,
   "metadata": {},
   "outputs": [],
   "source": [
    "## Set the Cosmological Parameters\n",
    "Tcmb    = 2.7255            # CMB temperature today in K\n",
    "YHe     = 0.248             # Helium mass fraction\n",
    "Omegam  = 0.3099            # Total matter density parameter\n",
    "Omegab  = 0.0488911         # Baryon density parameter\n",
    "Omegac  = Omegam - Omegab   # Cold dark matter density parameter\n",
    "w_DE_0  = -0.99             # Dark energy equation of state parameter today\n",
    "w_DE_a  = 0.0               # Dark energy equation of state parameter time derivative\n",
    "cs2_DE  = 1.0               # Dark energy sound speed squared\n",
    "num_massive_neutrinos = 1   # Number of massive neutrinos (must be 1 currently)\n",
    "mnu     = 0.06              # Sum of neutrino masses in eV \n",
    "Neff    = 2.046             # Effective number of ultrarelativistic neutrinos\n",
    "                            # -1 if massive neutrino present\n",
    "standard_neutrino_neff=Neff+num_massive_neutrinos\n",
    "h       = 0.67742           # Hubble constant today in units of 100 km/s/Mpc\n",
    "A_s     = 2.1064e-09        # Scalar amplitude of the primordial power spectrum\n",
    "n_s     = 0.96822           # Scalar spectral index\n",
    "k_p     = 0.05              # Pivot scale in 1/Mpc\n",
    "\n",
    "# modes to sample\n",
    "nmodes = 64                 # number of modes to sample\n",
    "kmin = 1e-3                 # minimum k in 1/Mpc\n",
    "kmax = 1e+0                 # maximum k in 1/Mpc\n",
    "aexp = 1.0                  # scale factor at which to evaluate the power spectrum"
   ]
  },
  {
   "cell_type": "code",
   "execution_count": 4,
   "metadata": {},
   "outputs": [
    {
     "name": "stderr",
     "output_type": "stream",
     "text": [
      "Platform 'METAL' is experimental and not all JAX functionality may be correctly supported!\n",
      "2024-04-24 23:25:25.352747: W pjrt_plugin/src/mps_client.cc:563] WARNING: JAX Apple GPU support is experimental and not all JAX functionality is correctly supported!\n"
     ]
    },
    {
     "name": "stdout",
     "output_type": "stream",
     "text": [
      "Metal device set to: Apple M2 Max\n",
      "\n",
      "systemMemory: 32.00 GB\n",
      "maxCacheSize: 10.67 GB\n",
      "\n"
     ]
    }
   ],
   "source": [
    "# insert parameters into a dictionary\n",
    "param = {}\n",
    "param['Omegam']  = Omegam\n",
    "param['Omegab']  = Omegab\n",
    "# param['OmegaDE'] = OmegaDE\n",
    "param['w_DE_0']  = w_DE_0\n",
    "param['w_DE_a']  = w_DE_a\n",
    "param['cs2_DE']  = cs2_DE\n",
    "param['Omegak']  = 0.0\n",
    "param['A_s']     = A_s\n",
    "param['n_s']     = n_s\n",
    "param['H0']      = 100*h\n",
    "param['Tcmb']    = Tcmb\n",
    "param['YHe']     = YHe\n",
    "param['Neff']    = Neff\n",
    "param['Nmnu']    = num_massive_neutrinos\n",
    "param['mnu']     = mnu\n",
    "param['k_p']     = k_p\n",
    "\n",
    "## Compute Background evolution\n",
    "param = evolve_background(param=param, thermo_module='RECFAST')#, class_thermo=thermo)\n"
   ]
  },
  {
   "cell_type": "code",
   "execution_count": 5,
   "metadata": {},
   "outputs": [],
   "source": [
    "# jax.config.update(\"jax_disable_jit\", True)\n",
    "\n",
    "# compute perturbation evolution\n",
    "def func( Omegam ):\n",
    "  param_loc = param.copy()\n",
    "  param_loc['Omegam'] = Omegam\n",
    "  aexp_out = jnp.array([aexp])\n",
    "  y, kmodes = evolve_perturbations( param=param_loc, kmin=kmin, kmax=kmax, num_k=nmodes, aexp_out=aexp_out, \n",
    "                                    rtol=1e-4, atol=1e-4 )\n",
    "  return y, kmodes"
   ]
  },
  {
   "cell_type": "code",
   "execution_count": 6,
   "metadata": {},
   "outputs": [],
   "source": [
    "df = jax.jacfwd( func )"
   ]
  },
  {
   "cell_type": "code",
   "execution_count": 7,
   "metadata": {},
   "outputs": [],
   "source": [
    "with jax.checking_leaks():\n",
    "  y,k = df( 0.3099 )"
   ]
  },
  {
   "cell_type": "code",
   "execution_count": 8,
   "metadata": {},
   "outputs": [
    {
     "ename": "NameError",
     "evalue": "name 'kmodes' is not defined",
     "output_type": "error",
     "traceback": [
      "\u001b[0;31m---------------------------------------------------------------------------\u001b[0m",
      "\u001b[0;31mNameError\u001b[0m                                 Traceback (most recent call last)",
      "Cell \u001b[0;32mIn[8], line 3\u001b[0m\n\u001b[1;32m      1\u001b[0m \u001b[38;5;66;03m# compute the power spectrum\u001b[39;00m\n\u001b[1;32m      2\u001b[0m fac \u001b[38;5;241m=\u001b[39m \u001b[38;5;241m2\u001b[39m \u001b[38;5;241m*\u001b[39m np\u001b[38;5;241m.\u001b[39mpi\u001b[38;5;241m*\u001b[39m\u001b[38;5;241m*\u001b[39m\u001b[38;5;241m2\u001b[39m \u001b[38;5;241m*\u001b[39m A_s\n\u001b[0;32m----> 3\u001b[0m Pkm \u001b[38;5;241m=\u001b[39m fac \u001b[38;5;241m*\u001b[39m(\u001b[43mkmodes\u001b[49m\u001b[38;5;241m/\u001b[39mk_p)\u001b[38;5;241m*\u001b[39m\u001b[38;5;241m*\u001b[39m(n_s \u001b[38;5;241m-\u001b[39m \u001b[38;5;241m1\u001b[39m) \u001b[38;5;241m*\u001b[39m kmodes\u001b[38;5;241m*\u001b[39m\u001b[38;5;241m*\u001b[39m(\u001b[38;5;241m-\u001b[39m\u001b[38;5;241m3\u001b[39m) \u001b[38;5;241m*\u001b[39m y[:,\u001b[38;5;241m-\u001b[39m\u001b[38;5;241m1\u001b[39m,\u001b[38;5;241m4\u001b[39m]\u001b[38;5;241m*\u001b[39m\u001b[38;5;241m*\u001b[39m\u001b[38;5;241m2\u001b[39m\n",
      "\u001b[0;31mNameError\u001b[0m: name 'kmodes' is not defined"
     ]
    }
   ],
   "source": [
    "# compute the power spectrum\n",
    "fac = 2 * np.pi**2 * A_s\n",
    "Pkm = fac *(kmodes/k_p)**(n_s - 1) * kmodes**(-3) * y[:,-1,4]**2"
   ]
  },
  {
   "cell_type": "code",
   "execution_count": null,
   "metadata": {},
   "outputs": [],
   "source": [
    "fig, ax = plt.subplots()\n",
    "\n",
    "ax.plot(kmodes, Pkm, label='delta_m')\n",
    "ax.loglog()\n",
    "ax.set_xlabel(r'$k$')\n",
    "ax.set_ylabel(r'$P(k)$')"
   ]
  },
  {
   "cell_type": "code",
   "execution_count": null,
   "metadata": {},
   "outputs": [],
   "source": [
    "def power_Kaiser( *, y : jax.Array, kmodes : jax.Array, b : float, aexp : float, sigma_z0 : float, nmu : int, param ) -> tuple[jax.Array]:\n",
    "    \"\"\" compute the anisotropic power spectrum using the Kaiser formula\n",
    "    \n",
    "    Args:\n",
    "        y (array_like)       : input solution from the EB solver\n",
    "        kmodes (array_like)  : the list of wave numbers\n",
    "        b (float)            : linear tracer bias\n",
    "        aexp (float)         : scale factor\n",
    "        sigma_z0 (float)     : redshift error sigma_z = sigma_z0 * (1+z)\n",
    "        nmu (int)            : number of mu bins\n",
    "        param (dict)         : dictionary of all data\n",
    "\n",
    "    Returns:\n",
    "        P(k,mu) (array_like) : anisotropic spectrum\n",
    "        mu (array_like)      : mu bins\n",
    "        theta (array_like)   : theta bins, mu = cos(theta)\n",
    "    \"\"\"\n",
    "    alpha = jnp.linspace(-jnp.pi,jnp.pi,nmu,endpoint=False)\n",
    "    mu = jnp.cos( alpha )\n",
    "\n",
    "    rhonu = jnp.exp(param['logrhonu_of_loga_spline'].evaluate(jnp.log(aexp)))\n",
    "    rho_Q = aexp**(-3*(1+param['w_DE_0']+param['w_DE_a'])) * jnp.exp(3*(aexp-1)*param['w_DE_a'])\n",
    "    \n",
    "    # ... background energy density\n",
    "    grho = (\n",
    "        param['grhom'] * param['Omegam'] / aexp\n",
    "        + (param['grhog'] + param['grhor'] * (param['Neff'] + param['Nmnu'] * rhonu)) / aexp**2\n",
    "        + param['grhom'] * param['OmegaDE'] * rho_Q * aexp**2\n",
    "        + param['grhom'] * param['Omegak']\n",
    "    )\n",
    "    \n",
    "    aprimeoa = jnp.sqrt(grho / 3.0)\n",
    "\n",
    "    fac = 2 * jnp.pi**2 * param['A_s']\n",
    "    deltam = jnp.sqrt(fac *(kmodes/param['k_p'])**(param['n_s'] - 1) * kmodes**(-3)) * y[:,4]\n",
    "    thetam = jnp.sqrt(fac *(kmodes/param['k_p'])**(param['n_s'] - 1) * kmodes**(-3)) * y[:,5]\n",
    "\n",
    "    # photo-z error\n",
    "    h = param['H0'] / 100.\n",
    "    sigma_z = sigma_z0 / aexp\n",
    "    Fkmu = jnp.exp( -(kmodes[:,None] / aprimeoa)**2 * mu[None,:]**2 * sigma_z**2 )\n",
    "\n",
    "    # thetam already contains 1/ mathcal{H} factor   -f delta = theta\n",
    "    Pkmu =  (b*deltam[:,None] - mu[None,:]**2 * thetam[:,None])**2 * Fkmu\n",
    "    # \n",
    "    # f = 0.5223719\n",
    "    # Pkmu =  (b*deltam[:,None] + f * mu[None,:]**2 * deltam[:,None])**2 * Fkmu\n",
    "    \n",
    "    return Pkmu, mu, alpha"
   ]
  },
  {
   "cell_type": "code",
   "execution_count": null,
   "metadata": {},
   "outputs": [],
   "source": [
    "p1, mu1, a1 = power_Kaiser(y=y[:,-1,:], kmodes=kmodes, b=0.2, aexp=1.0, sigma_z=0.01, nmu = 32, param=param)"
   ]
  },
  {
   "cell_type": "code",
   "execution_count": null,
   "metadata": {},
   "outputs": [],
   "source": [
    "fig, ax = plt.subplots()\n",
    "f = 0.5223719\n",
    "# ax.plot( kmodes, f * y[:,-1,4],'x-', label='$f \\\\delta$')\n",
    "# ax.plot( kmodes, -y[:,-1,5] , '--', label='$\\\\theta$')\n",
    "ax.plot( kmodes, p1[...,8],label='using $\\\\theta$')\n",
    "ax.plot( kmodes, p2[...,8],'--',label='using $f \\\\delta$')\n",
    "\n",
    "ax.loglog()\n",
    "ax.legend()"
   ]
  },
  {
   "cell_type": "code",
   "execution_count": null,
   "metadata": {},
   "outputs": [],
   "source": [
    "p.shape"
   ]
  },
  {
   "cell_type": "code",
   "execution_count": null,
   "metadata": {},
   "outputs": [],
   "source": []
  }
 ],
 "metadata": {
  "kernelspec": {
   "display_name": "Python 3",
   "language": "python",
   "name": "python3"
  },
  "language_info": {
   "codemirror_mode": {
    "name": "ipython",
    "version": 3
   },
   "file_extension": ".py",
   "mimetype": "text/x-python",
   "name": "python",
   "nbconvert_exporter": "python",
   "pygments_lexer": "ipython3",
   "version": "3.10.14"
  }
 },
 "nbformat": 4,
 "nbformat_minor": 2
}
